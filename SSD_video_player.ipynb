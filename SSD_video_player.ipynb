{
 "cells": [
  {
   "cell_type": "markdown",
   "metadata": {},
   "source": [
    "# Video Player and Recorder with SSD Object Detection"
   ]
  },
  {
   "cell_type": "markdown",
   "metadata": {},
   "source": [
    "# Configuration\n",
    "- configure `video_config.json`\n",
    " - to set ssd weight file, classes and confidence\n",
    " - like below\n",
    "\n",
    "```json\n",
    "{\n",
    "    \"ssd_weights_path\":\"weights_SSD300.hdf5\",\n",
    "    \"classes\":[\"Aeroplane\", \"Bicycle\", \"Bird\", \"Boat\", \"Bottle\",\n",
    "               \"Bus\", \"Car\", \"Cat\", \"Chair\", \"Cow\", \"Diningtable\",\n",
    "               \"Dog\", \"Horse\",\"Motorbike\", \"Person\", \"Pottedplant\",\n",
    "               \"Sheep\", \"Sofa\", \"Train\", \"Tvmonitor\"],\n",
    "    \"confidence\":0.6\n",
    "}\n",
    "```"
   ]
  },
  {
   "cell_type": "markdown",
   "metadata": {},
   "source": [
    "# How to use Video Player\n",
    "- Video\n",
    "\n",
    "```\n",
    "player = VideoPlayer(source_path, verbose)\n",
    "player.play(start, step, last)\n",
    "```\n",
    "\n",
    "- WebCam\n",
    "\n",
    "```\n",
    "player = VideoPlayer(0)\n",
    "player.play()\n",
    "```"
   ]
  },
  {
   "cell_type": "code",
   "execution_count": 1,
   "metadata": {},
   "outputs": [
    {
     "name": "stderr",
     "output_type": "stream",
     "text": [
      "Using TensorFlow backend.\n"
     ]
    }
   ],
   "source": [
    "from video_utils import VideoPlayer"
   ]
  },
  {
   "cell_type": "code",
   "execution_count": 2,
   "metadata": {},
   "outputs": [
    {
     "name": "stdout",
     "output_type": "stream",
     "text": [
      "width: 640, height: 480\n",
      "Total frames: -1\n",
      "fps: 30\n"
     ]
    }
   ],
   "source": [
    "# webcam mode\n",
    "file_path = 0\n",
    "player = VideoPlayer(file_path, verbose=0)"
   ]
  },
  {
   "cell_type": "code",
   "execution_count": 3,
   "metadata": {},
   "outputs": [
    {
     "name": "stdout",
     "output_type": "stream",
     "text": [
      "Breaked.\n",
      "Finished.\n"
     ]
    }
   ],
   "source": [
    "player.play()"
   ]
  },
  {
   "cell_type": "code",
   "execution_count": null,
   "metadata": {},
   "outputs": [],
   "source": []
  },
  {
   "cell_type": "markdown",
   "metadata": {},
   "source": [
    "# How to use Video Recorder\n",
    "- Video\n",
    "\n",
    "```\n",
    "recorder = VideoRecorder(source_path, verbose)\n",
    "recorder.record(target_path, start, step, last)\n",
    "```\n",
    "\n",
    "- WebCam\n",
    "\n",
    "```\n",
    "recorder = VideoRecorder(0, verbose)\n",
    "recorder.record(target_path)\n",
    "```"
   ]
  },
  {
   "cell_type": "code",
   "execution_count": 4,
   "metadata": {},
   "outputs": [],
   "source": [
    "from video_utils import VideoRecorder"
   ]
  },
  {
   "cell_type": "code",
   "execution_count": 5,
   "metadata": {},
   "outputs": [
    {
     "name": "stdout",
     "output_type": "stream",
     "text": [
      "width: 640, height: 480\n",
      "Total frames: -1\n",
      "fps: 30\n"
     ]
    }
   ],
   "source": [
    "# webcam mode\n",
    "file_path = 0\n",
    "recorder = VideoRecorder(file_path, verbose=0)"
   ]
  },
  {
   "cell_type": "code",
   "execution_count": 6,
   "metadata": {},
   "outputs": [
    {
     "name": "stdout",
     "output_type": "stream",
     "text": [
      "Breaked.\n",
      "Finished.\n"
     ]
    }
   ],
   "source": [
    "recorder.record('out.avi')"
   ]
  },
  {
   "cell_type": "code",
   "execution_count": null,
   "metadata": {},
   "outputs": [],
   "source": []
  }
 ],
 "metadata": {
  "kernelspec": {
   "display_name": "Python 3",
   "language": "python",
   "name": "python3"
  },
  "language_info": {
   "codemirror_mode": {
    "name": "ipython",
    "version": 3
   },
   "file_extension": ".py",
   "mimetype": "text/x-python",
   "name": "python",
   "nbconvert_exporter": "python",
   "pygments_lexer": "ipython3",
   "version": "3.5.5"
  },
  "toc": {
   "base_numbering": 1,
   "nav_menu": {},
   "number_sections": false,
   "sideBar": true,
   "skip_h1_title": true,
   "title_cell": "Table of Contents",
   "title_sidebar": "Contents",
   "toc_cell": false,
   "toc_position": {
    "height": "calc(100% - 180px)",
    "left": "10px",
    "top": "150px",
    "width": "274px"
   },
   "toc_section_display": true,
   "toc_window_display": true
  },
  "varInspector": {
   "cols": {
    "lenName": 16,
    "lenType": 16,
    "lenVar": 40
   },
   "kernels_config": {
    "python": {
     "delete_cmd_postfix": "",
     "delete_cmd_prefix": "del ",
     "library": "var_list.py",
     "varRefreshCmd": "print(var_dic_list())"
    },
    "r": {
     "delete_cmd_postfix": ") ",
     "delete_cmd_prefix": "rm(",
     "library": "var_list.r",
     "varRefreshCmd": "cat(var_dic_list()) "
    }
   },
   "types_to_exclude": [
    "module",
    "function",
    "builtin_function_or_method",
    "instance",
    "_Feature"
   ],
   "window_display": false
  }
 },
 "nbformat": 4,
 "nbformat_minor": 2
}
